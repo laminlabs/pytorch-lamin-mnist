{
 "cells": [
  {
   "attachments": {},
   "cell_type": "markdown",
   "id": "30a10bd4-6e2b-42ce-aa04-01fdc1d5f7ab",
   "metadata": {},
   "source": [
    "# Zero-copy ingest a remote ML dataset"
   ]
  },
  {
   "cell_type": "markdown",
   "id": "b23e4f7d-9301-4440-b793-c8a2f8c2df8d",
   "metadata": {},
   "source": [
    "Our first step is to create a LaminDB instance and ingest the local files."
   ]
  },
  {
   "cell_type": "code",
   "execution_count": null,
   "id": "f723505b-8140-498f-96e7-d7da0cc12797",
   "metadata": {},
   "outputs": [],
   "source": [
    "import lndb\n",
    "\n",
    "lndb.init(name=\"mnist-remote\", storage=\"s3://bernardo-test-bucket-1\")"
   ]
  },
  {
   "cell_type": "markdown",
   "id": "781e91a9-dec6-4856-a9be-a11e4b2015cd",
   "metadata": {},
   "source": [
    "Let's take a look at our set up instance."
   ]
  },
  {
   "cell_type": "code",
   "execution_count": null,
   "id": "6e51b416-5777-497c-be2b-d394aea48141",
   "metadata": {},
   "outputs": [],
   "source": [
    "lndb.settings.instance"
   ]
  },
  {
   "attachments": {},
   "cell_type": "markdown",
   "id": "022f9d1f-70e8-41de-b45e-57d5a6a9c4a5",
   "metadata": {},
   "source": [
    "Now that the instance has been set up with the existing storage, we must ingest the relevant data objects from storage into the instance so that we are able to track and query them.\n",
    "\n",
    "During this step, LaminDB commits object metadata to the instance database (in this case, a local SQLite instance)."
   ]
  },
  {
   "cell_type": "code",
   "execution_count": null,
   "id": "0b85984c-395a-4c34-8f45-c9d9894654c0",
   "metadata": {},
   "outputs": [],
   "source": [
    "import lamindb as ln\n",
    "\n",
    "ln.nb.header()"
   ]
  },
  {
   "cell_type": "markdown",
   "id": "9a0103f0-1c5d-4c36-b9d0-2bd091d12800",
   "metadata": {},
   "source": [
    "Let's first get the URIs to the remotely-stored data objects."
   ]
  },
  {
   "cell_type": "code",
   "execution_count": null,
   "id": "795d0e1e-fd49-4f47-91e3-dbac119b8680",
   "metadata": {},
   "outputs": [],
   "source": [
    "import boto3\n",
    "\n",
    "s3 = boto3.resource(\"s3\")\n",
    "bucket = s3.Bucket(\"bernardo-test-bucket-1\")\n",
    "dobject_uris = [\n",
    "    f\"s3://{bucket.name}/{object.key}\"\n",
    "    for object in bucket.objects.filter(Prefix=\"mnist_100/\")\n",
    "]"
   ]
  },
  {
   "cell_type": "markdown",
   "id": "f806c9a1-d6f8-4cb8-9d69-77e4955421ef",
   "metadata": {},
   "source": [
    "Let's now ingest each of the data objects based on their URI and link them to the relevant metadata.\n",
    "\n",
    "In our case, the metadata we want to link each `DObject` to is a `DFolder` entity so that we can later query data objects based on folders."
   ]
  },
  {
   "cell_type": "code",
   "execution_count": null,
   "id": "847af7b5-ac6e-4e46-a3dd-405a89e97436",
   "metadata": {},
   "outputs": [],
   "source": [
    "# create folder for linking to mnist data objects\n",
    "mnist_folder = ln.DFolder(name=\"mnist\")\n",
    "\n",
    "# create dobjects and link them to mnist folder\n",
    "dobjects = [ln.DObject(data=cloudpath) for cloudpath in dobject_uris]\n",
    "mnist_folder.dobjects = dobjects\n",
    "\n",
    "# ingest all data objects\n",
    "ln.add(mnist_folder)\n",
    "ln.add(dobjects);"
   ]
  }
 ],
 "metadata": {
  "kernelspec": {
   "display_name": "Python 3 (ipykernel)",
   "language": "python",
   "name": "python3"
  },
  "language_info": {
   "codemirror_mode": {
    "name": "ipython",
    "version": 3
   },
   "file_extension": ".py",
   "mimetype": "text/x-python",
   "name": "python",
   "nbconvert_exporter": "python",
   "pygments_lexer": "ipython3",
   "version": "3.9.12"
  },
  "nbproject": {
   "id": "uRC4kRaTBlBc",
   "parent": null,
   "pypackage": null,
   "time_init": "2023-02-24T01:24:48.253592+00:00",
   "user_handle": "testuser1",
   "user_id": "DzTjkKse",
   "user_name": "Test User1",
   "version": "0"
  },
  "vscode": {
   "interpreter": {
    "hash": "6f775e615af92107a24a8dc5e93fe95ce25fd35096484e8bc738bef7b5ea6eb7"
   }
  }
 },
 "nbformat": 4,
 "nbformat_minor": 5
}
