{
 "cells": [
  {
   "cell_type": "markdown",
   "id": "545d165f-750b-4f5e-8b6d-c40444c807ef",
   "metadata": {},
   "source": [
    "# Train on images with queryable metadata"
   ]
  },
  {
   "cell_type": "markdown",
   "id": "e1128918-6573-4ae0-96f0-90ab1abd4ce3",
   "metadata": {},
   "source": [
    "In the previous notebooks, we have ingested a ML dataset, prepared a PyTorch dataset, and trained a simple autoencoder as part of our use case demonstration of LaminDB applied to ML workflows.\n",
    "\n",
    "When preparing a PyTorch dataset, we manually fetched labels on a `labels.csv` file based on the filename of each data object. It would be much easier, however, if we could to query the label for a given file with the LaminDB API or, similarly, query a collection of data objects based on any given label.\n",
    "\n",
    "LaminDB allows users to create custom entities and link them to any existing schema entities through simple extensions of its core schema.\n",
    "\n",
    "In this notebook, we extend the LaminDB schema by creating a `HandwrittenNumber` entity, which represents the labels of our MNIST images. We will see how this feature dramatically improves the experience of handling features and their respectives labels in a ML workflow."
   ]
  },
  {
   "cell_type": "code",
   "execution_count": null,
   "id": "4f72f860-be5a-493d-8594-4c7b17bec058",
   "metadata": {},
   "outputs": [],
   "source": [
    "!lamin load mnist-100"
   ]
  },
  {
   "cell_type": "markdown",
   "id": "798dd2d3-3c62-419b-9584-c2b89f664855",
   "metadata": {},
   "source": [
    "## Creating a `HandwrittenNumber` entity linked to a `File`"
   ]
  },
  {
   "cell_type": "markdown",
   "id": "7a149637-38e4-42d3-a790-e148a468bf4f",
   "metadata": {},
   "source": [
    "We can extend the core LaminDB schema by writing our own SQLModel ORMs.\n",
    "\n",
    "We'd like to link `HandwrittenNumber` records to `File` records (the images).\n",
    "\n",
    "As `HandwrittenNumber` is not present in any of the default schema modules, we need to go through 3 steps:\n",
    "- Creation of a LinkORM between the new entity (`HandwrittenNumber`) and the target entity (`File`).\n",
    "- Creation of the `HandwrittenNumber` ORM with an attribute referencing the target entity (relationship).\n",
    "- Creation of the ORM relationship attribute in the target entity.\n",
    "\n",
    "Let's see how we can do this in practice.\n",
    "\n",
    "```{note}        \n",
    "For more details about `SQLModel`, see the [SQLModel docs](https://sqlmodel.tiangolo.com/).\n",
    "\n",
    "For more details about defining relationships with `SQLModel`, please refer to [Relationship Attributes - Intro](https://sqlmodel.tiangolo.com/tutorial/relationship-attributes/).\n",
    "```"
   ]
  },
  {
   "cell_type": "code",
   "execution_count": null,
   "id": "029b31b2-de09-4895-821f-a580b4d1c01e",
   "metadata": {},
   "outputs": [],
   "source": [
    "from sqlmodel import SQLModel, Field, Relationship\n",
    "from lnschema_core import File\n",
    "from lnschema_core.dev.sqlmodel import add_relationships\n",
    "from lamindb.setup import settings\n",
    "from typing import Optional, List\n",
    "\n",
    "\n",
    "class FileHandwrittenNumber(SQLModel, table=True):\n",
    "    \"\"\"Link table between File and HandwrittenNumber.\"\"\"\n",
    "\n",
    "    __tablename__ = \"file_handwritten_number\"\n",
    "\n",
    "    file_id: str = Field(foreign_key=File.id, primary_key=True)\n",
    "    handwrittennumber_id: int = Field(\n",
    "        foreign_key=\"handwritten_number.id\", primary_key=True\n",
    "    )\n",
    "\n",
    "\n",
    "class HandwrittenNumber(SQLModel, table=True):\n",
    "    \"\"\"Handwritten number entity.\"\"\"\n",
    "\n",
    "    __tablename__ = \"handwritten_number\"\n",
    "\n",
    "    id: int = Field(primary_key=True)\n",
    "    files: List[File] = Relationship(\n",
    "        back_populates=\"handwritten_numbers\",\n",
    "        link_model=FileHandwrittenNumber,\n",
    "    )\n",
    "\n",
    "\n",
    "add_relationships(HandwrittenNumber)\n",
    "\n",
    "# Create tables in the database\n",
    "SQLModel.metadata.create_all(settings.instance.engine)"
   ]
  },
  {
   "cell_type": "markdown",
   "id": "2520f19a-246b-4593-a6bd-ca827165d6b9",
   "metadata": {},
   "source": [
    "## Linking images to their labels"
   ]
  },
  {
   "cell_type": "markdown",
   "id": "586f6dcb-d4b3-41de-947d-0d5a7ebcd1e5",
   "metadata": {},
   "source": [
    "Now that the schema has been properly extended, lets loop through our data objects once again and link each of them to their respective `HandwrittenNumber` label."
   ]
  },
  {
   "cell_type": "code",
   "execution_count": null,
   "id": "5b3d0e3d-8219-4c67-a976-0343ae9e69d1",
   "metadata": {},
   "outputs": [],
   "source": [
    "import lamindb as ln\n",
    "\n",
    "# Select MNIST folder\n",
    "mnist_folder = ln.select(ln.Folder).one()\n",
    "\n",
    "# Query and load the data object containing the labels dataframe\n",
    "labels = ln.select(ln.File, suffix=\".csv\").one()\n",
    "labels_df = labels.load()\n",
    "\n",
    "# Ingest label entities (HandwrittenNumber)\n",
    "for label in labels_df[\"label\"].unique():\n",
    "    ln.add(HandwrittenNumber, name=str(label))\n",
    "\n",
    "# Query all feature data objects (MNIST images)\n",
    "# ORM relationship attributes are lazy loaded, so we need to bound data objects\n",
    "# to a session in order to access and assign values to File.handwritten_number\n",
    "with ln.Session() as session:\n",
    "    feature_files = (\n",
    "        session.select(ln.File)\n",
    "        .join(ln.File.folders)\n",
    "        .where(ln.Folder.id == mnist_folder.id)\n",
    "    ).all()\n",
    "\n",
    "    # Loop through the feature data objects and link them to their respective labels\n",
    "    updated_files = []\n",
    "    for file in feature_files:\n",
    "        label = labels_df.loc[labels_df[\"filename\"] == file.name, \"label\"].item()\n",
    "        handwritten_number = session.select(HandwrittenNumber, name=label).one()\n",
    "        file.handwritten_numbers = [handwritten_number]\n",
    "        updated_files += [file]\n",
    "\n",
    "    # Ingest data objects and their linked labels\n",
    "    session.add(updated_files)"
   ]
  },
  {
   "cell_type": "markdown",
   "id": "3859d1c0-a8ca-4cf9-b204-c81c6047eeb0",
   "metadata": {},
   "source": [
    "## Querying images by labels"
   ]
  },
  {
   "cell_type": "markdown",
   "id": "b5e2a1a3-eb3d-49ef-9b72-d32c408a30df",
   "metadata": {},
   "source": [
    "Now that all data objects have been properly indexed with their `HandwrittenNumber` labels, we can proceed to query them with the LaminDB API."
   ]
  },
  {
   "cell_type": "markdown",
   "id": "cf05799f-958a-4fbf-af93-233a7326eeb2",
   "metadata": {},
   "source": [
    "Let's query all data objects associated with the label 2."
   ]
  },
  {
   "cell_type": "code",
   "execution_count": null,
   "id": "543435d5-f119-4fd3-b416-0e3a3f90c31d",
   "metadata": {},
   "outputs": [],
   "source": [
    "files = (\n",
    "    ln.select(ln.File)\n",
    "    .join(ln.File.handwritten_numbers)\n",
    "    .where(HandwrittenNumber.id == 2)\n",
    ").all()\n",
    "files"
   ]
  },
  {
   "cell_type": "markdown",
   "id": "be47c819-16b1-4660-b8e0-efdff9656ae0",
   "metadata": {},
   "source": [
    "Let's query a random data object and get its label. Also, use the relationship attribute:"
   ]
  },
  {
   "cell_type": "code",
   "execution_count": null,
   "id": "f8a8f0f4-8390-450f-bba9-c6b3a2fd5252",
   "metadata": {},
   "outputs": [],
   "source": [
    "import random\n",
    "\n",
    "with ln.Session() as session:\n",
    "    files = session.select(ln.File).join(ln.File.handwritten_numbers).all()\n",
    "    file = random.choice(files)\n",
    "    file.handwritten_numbers  # lazy load handwritten_number relationships inside of session\n",
    "file.handwritten_numbers"
   ]
  },
  {
   "cell_type": "markdown",
   "id": "39838c5b-0ba9-4d3d-89ff-faaf79f35c92",
   "metadata": {},
   "source": [
    "## Extending our custom PyTorch `Dataset` with the LaminDB API"
   ]
  },
  {
   "cell_type": "markdown",
   "id": "a27cc7f2-2c5c-4e06-b776-0e653f1ec35c",
   "metadata": {},
   "source": [
    "Instead of having to write custom logic to fetch labels from a pandas `Dataframe`, we can now use the LaminDB API to get the label directly from a data object."
   ]
  },
  {
   "cell_type": "code",
   "execution_count": null,
   "id": "bbe2b4ed-36ff-4a1b-a152-cdd5e3c27e43",
   "metadata": {},
   "outputs": [],
   "source": [
    "from torch.utils.data import Dataset\n",
    "from torchvision.transforms import ToTensor\n",
    "from PIL import Image\n",
    "\n",
    "\n",
    "class LNDataset(Dataset):\n",
    "    def __init__(self, folder: ln.Folder):\n",
    "        # query files in the data folder\n",
    "        self.files = (\n",
    "            ln.select(ln.File).join(ln.File.folders).where(ln.Folder.id == folder.id)\n",
    "        ).all()\n",
    "\n",
    "        # define features and labels\n",
    "        self.feature_files = []\n",
    "        for file in self.files:\n",
    "            if file.name == \"labels\":  # load and define dataframe with labels\n",
    "                self.img_labels = file.load()\n",
    "            else:\n",
    "                self.feature_files += [file]\n",
    "\n",
    "        # set key torch.utils.data.Dataset attributes\n",
    "        self.transform = ToTensor()\n",
    "        self.target_transform = None\n",
    "\n",
    "    def __len__(self):\n",
    "        return len(self.img_labels)\n",
    "\n",
    "    def __getitem__(self, idx):\n",
    "        # bound data object to session in order to lazy load the DOBject.handwritten_number relationship\n",
    "        with ln.Session() as session:\n",
    "            # get feature file\n",
    "            file = session.select(ln.File, id=self.feature_files[idx].id).one()\n",
    "            # get label from feature file\n",
    "            label = file.handwritten_numbers\n",
    "        # get feature (image) from feature file\n",
    "        path = file.load()\n",
    "        image = Image.open(path)\n",
    "        if self.transform:\n",
    "            image = self.transform(image)\n",
    "        if self.target_transform:\n",
    "            label = self.target_transform(label)\n",
    "        return image, label"
   ]
  }
 ],
 "metadata": {
  "kernelspec": {
   "display_name": "Python 3 (ipykernel)",
   "language": "python",
   "name": "python3"
  },
  "language_info": {
   "codemirror_mode": {
    "name": "ipython",
    "version": 3
   },
   "file_extension": ".py",
   "mimetype": "text/x-python",
   "name": "python",
   "nbconvert_exporter": "python",
   "pygments_lexer": "ipython3",
   "version": "3.9.15"
  },
  "vscode": {
   "interpreter": {
    "hash": "6f775e615af92107a24a8dc5e93fe95ce25fd35096484e8bc738bef7b5ea6eb7"
   }
  }
 },
 "nbformat": 4,
 "nbformat_minor": 5
}
