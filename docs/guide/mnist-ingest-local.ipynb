{
 "cells": [
  {
   "attachments": {},
   "cell_type": "markdown",
   "id": "b10297e6-e772-4d8d-bb19-9d32b274df3f",
   "metadata": {
    "tags": []
   },
   "source": [
    "# Ingest a local ML dataset"
   ]
  },
  {
   "cell_type": "code",
   "execution_count": null,
   "id": "39677ddd-4985-4e09-b5d7-6baf16ef90a1",
   "metadata": {},
   "outputs": [],
   "source": [
    "!lamin init --storage \"mnist-local\""
   ]
  },
  {
   "cell_type": "code",
   "execution_count": null,
   "id": "5a398789-4542-4540-8575-1f5c004a84fd",
   "metadata": {},
   "outputs": [],
   "source": [
    "!lamin info"
   ]
  },
  {
   "cell_type": "code",
   "execution_count": null,
   "id": "a6da0e15-c949-466c-b395-edc6bf94f0be",
   "metadata": {},
   "outputs": [],
   "source": [
    "import lamindb as ln\n",
    "\n",
    "ln.nb.header()"
   ]
  },
  {
   "cell_type": "code",
   "execution_count": null,
   "id": "5efdaf9c-a9eb-4c77-bedc-d8718fdfcfcf",
   "metadata": {
    "tags": [
     "hide-cell"
    ]
   },
   "outputs": [],
   "source": [
    "# prepare local data\n",
    "import boto3\n",
    "from pathlib import Path\n",
    "\n",
    "s3 = boto3.resource(\"s3\")\n",
    "bucket = s3.Bucket(\"bernardo-test-bucket-1\")\n",
    "for obj in bucket.objects.filter(Prefix=\"mnist_100/\"):\n",
    "    Path(obj.key).parent.mkdir(exist_ok=True)\n",
    "    bucket.download_file(obj.key, obj.key)"
   ]
  },
  {
   "attachments": {},
   "cell_type": "markdown",
   "id": "c4a1dafa-bbe4-4ac7-9e39-c7af9e17d54a",
   "metadata": {},
   "source": [
    "Assume we have a local directory of files that we'd like to ingest:"
   ]
  },
  {
   "cell_type": "code",
   "execution_count": null,
   "id": "70f8b795",
   "metadata": {},
   "outputs": [],
   "source": [
    "!ls mnist_100/*"
   ]
  },
  {
   "attachments": {},
   "cell_type": "markdown",
   "id": "6c79f86d-c7e7-4e2d-b54e-8dc399223d4d",
   "metadata": {},
   "source": [
    "Let's ingest each of them as a `DObject` and group them with a `DFolder`:"
   ]
  },
  {
   "cell_type": "code",
   "execution_count": null,
   "id": "665c1808-7813-4aec-ba19-71eb2f188eba",
   "metadata": {},
   "outputs": [],
   "source": [
    "# create folder for linking to mnist data objects\n",
    "dfolder = ln.DFolder(name=\"mnist\")\n",
    "\n",
    "# create dobjects and link them to mnist folder\n",
    "dobjects = [ln.DObject(filepath) for filepath in Path(\"mnist_100/\").glob(\"*\")]\n",
    "dfolder.dobjects = dobjects\n",
    "\n",
    "# ingest all data objects\n",
    "ln.add(dfolder)\n",
    "ln.add(dobjects);"
   ]
  }
 ],
 "metadata": {
  "kernelspec": {
   "display_name": "Python 3 (ipykernel)",
   "language": "python",
   "name": "python3"
  },
  "language_info": {
   "codemirror_mode": {
    "name": "ipython",
    "version": 3
   },
   "file_extension": ".py",
   "mimetype": "text/x-python",
   "name": "python",
   "nbconvert_exporter": "python",
   "pygments_lexer": "ipython3",
   "version": "3.9.12"
  },
  "nbproject": {
   "id": "GfLCSYv8BjvJ",
   "parent": null,
   "pypackage": null,
   "time_init": "2023-02-21T17:45:22.205882+00:00",
   "user_handle": "testuser1",
   "user_id": "DzTjkKse",
   "user_name": "Test User1",
   "version": "0"
  },
  "vscode": {
   "interpreter": {
    "hash": "6f775e615af92107a24a8dc5e93fe95ce25fd35096484e8bc738bef7b5ea6eb7"
   }
  }
 },
 "nbformat": 4,
 "nbformat_minor": 5
}
