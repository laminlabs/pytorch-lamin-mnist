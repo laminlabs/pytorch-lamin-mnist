{
 "cells": [
  {
   "cell_type": "markdown",
   "id": "b10297e6-e772-4d8d-bb19-9d32b274df3f",
   "metadata": {
    "tags": []
   },
   "source": [
    "# Ingesting a local ML dataset"
   ]
  },
  {
   "attachments": {},
   "cell_type": "markdown",
   "id": "7a9012bc-afa6-423c-8932-6d96422c4a18",
   "metadata": {},
   "source": [
    "As part of our demonstration of a simple ML workflow with LaminDB and PyTorch, this notebook demonstrates a basic process for ingesting locally-stored data into a LaminDB instance.\n",
    "\n",
    "```{note}\n",
    "- For an introduction to this four-part demonstration, please see [LaminDB use case: integrating with PyTorch to train a model on the MNIST dataset](./mnist-intro.ipynb).\n",
    "- For ingesting the same dataset stored in the cloud, please see [Ingesting a remote ML dataset](./mnist-ingest-remote.ipynb).\n",
    "- For building the PyTorch `Dataset` and training the autoencoder, please see [Integrating with PyTorch and training an autoencoder](./mnist-train.ipynb).\n",
    "- For extending the LaminDB schema, please see [Extending the LaminDB schema](./mnist-extend-schema.ipynb).\n",
    "```"
   ]
  },
  {
   "cell_type": "markdown",
   "id": "fc2fc447-b740-43aa-a0d4-3ad682b29fe4",
   "metadata": {},
   "source": [
    "## Creating a LaminDB instance"
   ]
  },
  {
   "cell_type": "markdown",
   "id": "e39adb5c-35d9-4183-8c6b-4285c7ad295d",
   "metadata": {},
   "source": [
    "Our first step is to create a LaminDB instance and ingest the local files."
   ]
  },
  {
   "cell_type": "code",
   "execution_count": null,
   "id": "39677ddd-4985-4e09-b5d7-6baf16ef90a1",
   "metadata": {},
   "outputs": [],
   "source": [
    "import lndb\n",
    "\n",
    "lndb.init(storage=\"mnist-local\")"
   ]
  },
  {
   "cell_type": "markdown",
   "id": "b6fb506c-9896-40c5-bea4-da20baf602ce",
   "metadata": {},
   "source": [
    "Let's take a look at our set up instance."
   ]
  },
  {
   "cell_type": "code",
   "execution_count": null,
   "id": "5a398789-4542-4540-8575-1f5c004a84fd",
   "metadata": {},
   "outputs": [],
   "source": [
    "lndb.settings.instance"
   ]
  },
  {
   "cell_type": "markdown",
   "id": "0246f26e-1b3a-47e2-9f92-ef1b39ec1e3e",
   "metadata": {},
   "source": [
    "Now that the instance has been set up, we must ingest the relevant data objects from our local folder into the instance so that we are able to track and query them.\n",
    "\n",
    "During this step, LaminDB commits object metadata to the instance database (in this case, a local SQLite instance), which serves as the metadata and governance layer of our [data lakehouse](https://www.databricks.com/glossary/data-lakehouse)."
   ]
  },
  {
   "cell_type": "code",
   "execution_count": null,
   "id": "a6da0e15-c949-466c-b395-edc6bf94f0be",
   "metadata": {},
   "outputs": [],
   "source": [
    "import lamindb as ln\n",
    "import lamindb.schema as lns\n",
    "\n",
    "ln.nb.header()"
   ]
  },
  {
   "cell_type": "markdown",
   "id": "f46e53fc-181a-4793-831a-5888567fcb9e",
   "metadata": {},
   "source": [
    "```{note}\n",
    "\n",
    "`ln.nb` is an access point of one our open-source modules, nbproject.\n",
    "\n",
    "The call to `ln.nb.header()` initializes the notebook and enables key data provenance features.\n",
    "\n",
    "Whenever a data object is ingested into the instance from an initialized notebook, LaminDB automatically identifies the notebook where it came from and inserts the relevant provenance records in the database.\n",
    "\n",
    "For more details, check out our guide on [ingest and tracking data from notebook runs](https://lamin.ai/docs/db/guide/nb).\n",
    "```"
   ]
  },
  {
   "cell_type": "markdown",
   "id": "937d591d-e1d4-4622-8815-f4d806ee7af9",
   "metadata": {},
   "source": [
    "## Ingesting and linking data objects to folder"
   ]
  },
  {
   "cell_type": "markdown",
   "id": "c4a1dafa-bbe4-4ac7-9e39-c7af9e17d54a",
   "metadata": {},
   "source": [
    "Let's first get the paths to the locally-stored data objects."
   ]
  },
  {
   "cell_type": "code",
   "execution_count": null,
   "id": "5efdaf9c-a9eb-4c77-bedc-d8718fdfcfcf",
   "metadata": {},
   "outputs": [],
   "source": [
    "from pathlib import Path\n",
    "\n",
    "files = Path(\"mnist_100/\").glob(\"*\")"
   ]
  },
  {
   "cell_type": "markdown",
   "id": "6c79f86d-c7e7-4e2d-b54e-8dc399223d4d",
   "metadata": {},
   "source": [
    "We now ingest each of the data objects based on their local path and link them to the relevant metadata.\n",
    "\n",
    "In our case, the metadata we want to link each `DObject` to is a `DFolder` entity so that we can later query data objects based on folders."
   ]
  },
  {
   "cell_type": "code",
   "execution_count": null,
   "id": "665c1808-7813-4aec-ba19-71eb2f188eba",
   "metadata": {},
   "outputs": [],
   "source": [
    "# create folder for linking to mnist data objects\n",
    "mnist_folder = lns.DFolder(name=\"mnist\")\n",
    "\n",
    "# create dobjects and link them to mnist folder\n",
    "dobjects = [ln.DObject(filepath) for filepath in files]\n",
    "mnist_folder.dobjects = dobjects\n",
    "\n",
    "# ingest all data objects\n",
    "ln.add(mnist_folder)\n",
    "ln.add(dobjects);"
   ]
  },
  {
   "cell_type": "code",
   "execution_count": null,
   "id": "36995f4d-c038-4b7d-83b0-d8d57410dc05",
   "metadata": {},
   "outputs": [],
   "source": []
  }
 ],
 "metadata": {
  "kernelspec": {
   "display_name": "Python 3 (ipykernel)",
   "language": "python",
   "name": "python3"
  },
  "language_info": {
   "codemirror_mode": {
    "name": "ipython",
    "version": 3
   },
   "file_extension": ".py",
   "mimetype": "text/x-python",
   "name": "python",
   "nbconvert_exporter": "python",
   "pygments_lexer": "ipython3",
   "version": "3.9.12"
  },
  "nbproject": {
   "id": "GfLCSYv8BjvJ",
   "parent": null,
   "pypackage": null,
   "time_init": "2023-02-21T17:45:22.205882+00:00",
   "user_handle": "testuser1",
   "user_id": "DzTjkKse",
   "user_name": "Test User1",
   "version": "0"
  },
  "vscode": {
   "interpreter": {
    "hash": "6f775e615af92107a24a8dc5e93fe95ce25fd35096484e8bc738bef7b5ea6eb7"
   }
  }
 },
 "nbformat": 4,
 "nbformat_minor": 5
}
