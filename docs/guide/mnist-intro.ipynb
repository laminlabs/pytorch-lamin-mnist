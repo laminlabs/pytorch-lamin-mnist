{
 "cells": [
  {
   "cell_type": "markdown",
   "metadata": {},
   "source": [
    "# LaminDB use case: integrating with PyTorch to train a model on the MNIST dataset"
   ]
  },
  {
   "attachments": {},
   "cell_type": "markdown",
   "metadata": {},
   "source": [
    "LaminDB makes it easy to prepare raw datasets to be handled by ML workflow tools.\n",
    "\n",
    "To illustrate our point, we will train a basic autoencoder with PyTorch based on a abridged [MNIST dataset](http://yann.lecun.com/exdb/mnist/) with 100 images. \n",
    "\n",
    "We will show how LaminDB integrates seamlessly with PyTorch by providing useful abstractions for loading and querying data when building a PyTorch `Dataset`.\n",
    "\n",
    "This use case demonstration is composed of four main sections:\n",
    "- [Ingesting a local ML dataset](./mnist-ingest-local.ipynb)\n",
    "- [Ingesting a remote ML dataset](./mnist-ingest-remote.ipynb)\n",
    "- [Integrating LaminDB with PyTorch and training an autoencoder](./mnist-train.ipynb)\n",
    "- [Extending the LaminDB schema](./mnist-extend-schema.ipynb)"
   ]
  },
  {
   "cell_type": "code",
   "execution_count": null,
   "metadata": {},
   "outputs": [],
   "source": [
    "import lndb\n",
    "\n",
    "lndb.login(\"testuser1@lamin.ai\", password=\"cEvcwMJFX4OwbsYVaMt2Os6GxxGgDUlBGILs2RyS\")"
   ]
  }
 ],
 "metadata": {
  "kernelspec": {
   "display_name": "Python 3 (ipykernel)",
   "language": "python",
   "name": "python3"
  },
  "language_info": {
   "name": "python",
   "version": "3.9.12"
  },
  "vscode": {
   "interpreter": {
    "hash": "6f775e615af92107a24a8dc5e93fe95ce25fd35096484e8bc738bef7b5ea6eb7"
   }
  }
 },
 "nbformat": 4,
 "nbformat_minor": 2
}
